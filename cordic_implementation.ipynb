{
 "cells": [
  {
   "cell_type": "markdown",
   "metadata": {},
   "source": [
    "# CORDIC Algorithm\n",
    "**CO**ordinate **R**otation **DI**gital **C**omputer (CORDIC) is an algorithm which uses rotation of vector to calculate trignometric and hyperbolic functions. CORDIC algorithms as in present forms were first described by Volder in 1959 in his paper *The CORDIC Trigonometric Computing Technique*. They were first developed to replace analog resolver in B-58 bombers with digital solution."
   ]
  },
  {
   "cell_type": "markdown",
   "metadata": {},
   "source": [
    "## Working\n",
    "Cordic algoritihms can operate in two modes: Rotation mode and Vector mode.\n",
    "### Rotation Mode\n",
    "In rotation mode coordinates of vector and an angle is supplied. Vector is rotated by the given angle to generate coordinates of final vector.\n",
    "\n",
    "### Vector Mode \n",
    "In Vector mode coordinates of vector in supplied which is then used to rotate the vector such that it aligns with x-axis.  Vector mode thus calculates magnitude and the argument of the original vector.  "
   ]
  },
  {
   "cell_type": "markdown",
   "metadata": {},
   "source": [
    "### Imports and global declarations"
   ]
  },
  {
   "cell_type": "markdown",
   "metadata": {},
   "source": [
    "General import statements, we'll use matplotlib to plot graphs"
   ]
  },
  {
   "cell_type": "code",
   "execution_count": 6,
   "metadata": {
    "collapsed": true
   },
   "outputs": [],
   "source": [
    "%matplotlib inline\n",
    "\n",
    "import matplotlib\n",
    "import numpy as np\n",
    "import matplotlib.pyplot as plt\n",
    "\n",
    "import math\n",
    "\n",
    "from __future__ import division"
   ]
  },
  {
   "cell_type": "markdown",
   "metadata": {},
   "source": [
    "Maximum number of iterations that algorithm will perform"
   ]
  },
  {
   "cell_type": "code",
   "execution_count": 7,
   "metadata": {
    "collapsed": true
   },
   "outputs": [],
   "source": [
    "max_iter = 50"
   ]
  },
  {
   "cell_type": "markdown",
   "metadata": {},
   "source": [
    "Variables to identify circular, linear and hyperbolic mode"
   ]
  },
  {
   "cell_type": "code",
   "execution_count": 8,
   "metadata": {
    "collapsed": true
   },
   "outputs": [],
   "source": [
    "circular = 1\n",
    "linear = 0\n",
    "hyperbolic = -1"
   ]
  },
  {
   "cell_type": "markdown",
   "metadata": {},
   "source": [
    "Method to plot values"
   ]
  },
  {
   "cell_type": "code",
   "execution_count": 9,
   "metadata": {
    "collapsed": true
   },
   "outputs": [],
   "source": [
    "def plot(x_values, y_values, x_label, y_label, plot_label):\n",
    "    # Plot of Value of gain with number of iterations\n",
    "    fig = plt.figure();\n",
    "    ax = fig.add_subplot(111);\n",
    "\n",
    "    line, = ax.plot(x_values, y_values,  lw=2)\n",
    "\n",
    "    ax.set_title(plot_label)\n",
    "    ax.set_xlabel(x_label)\n",
    "    ax.set_ylabel(y_label)\n",
    "    plt.show()\n",
    "    plt.close()\n",
    "    return"
   ]
  },
  {
   "cell_type": "markdown",
   "metadata": {},
   "source": [
    "# Modes of CORDIC Algorithms\n",
    "CORDIC algorithms is usualy operated in one of the following two modes:\n",
    "* **Rotation mode** \n",
    "* **Vector mode**\n"
   ]
  },
  {
   "cell_type": "markdown",
   "metadata": {},
   "source": [
    "## Rotation Mode\n",
    "\n",
    "In rotation mode vector is initialised with given angle, on each further iteration the value of angle is reduced by rotating the vector by fixed amount.\n",
    "\n",
    "Equations used in rotation mode are:\n",
    "\n",
    "\n",
    "\\begin{equation}\n",
    "    x_{i+1} = x_{i} - y_{i} \\cdot d_{i} \\cdot 2^{-i}      \n",
    "\\end{equation}\n",
    "\n",
    "\n",
    "\\begin{equation}\n",
    "    y_{i+1} = y_{i} + x_{i} \\cdot d_{i} \\cdot 2^{-i}\n",
    "\\end{equation}\n",
    "\n",
    "\\begin{equation}\n",
    "    z_{i+1} = Z_{i} - d_{i} \\cdot tan^{-1}(2^{-i})     \n",
    "\\end{equation}\n",
    "\n",
    "\n",
    "\\begin{equation}\n",
    "^{(for \\space i^{th} \\space iteration)}\n",
    "\\end{equation}\n",
    "\n",
    "Value of $d_{i}$ is chosen such that z reduces at each iteration. Thus after n iterations if z = 0 then\n",
    "\n",
    "\n",
    "\\begin{equation}\n",
    "    x_{n} = A_{n} \\cdot [ x_{0} \\cdot cos z_{0} - y_{0} \\cdot sin z_{0} ]      \n",
    "\\end{equation}\n",
    "\n",
    "\\begin{equation}\n",
    "    x_{n} = A_{n} \\cdot [ y_{0} \\cdot cos z_{0} + x_{0} \\cdot sin z_{0} ]      \n",
    "\\end{equation}\n",
    "\n",
    "\\begin{equation}\n",
    "    z_{n} = 0\n",
    "\\end{equation}\n",
    "\n",
    "where \n",
    "\n",
    "\\begin{equation}\n",
    "    A_{n} = {\\displaystyle \\prod_{i=0} ^{n}} \\sqrt{1+2^{-2i}}\n",
    "\\end{equation}"
   ]
  },
  {
   "cell_type": "markdown",
   "metadata": {},
   "source": [
    "### Value of $A_{n}$ as $n \\rightarrow \\infty$"
   ]
  },
  {
   "cell_type": "code",
   "execution_count": 10,
   "metadata": {
    "collapsed": false
   },
   "outputs": [
    {
     "data": {
      "image/png": "[encoded data removed]",
      "text/plain": [
       "<matplotlib.figure.Figure at 0x7f39f95fe110>"
      ]
     },
     "metadata": {},
     "output_type": "display_data"
    },
    {
     "name": "stdout",
     "output_type": "stream",
     "text": [
      "Gain of the system is 1.64675921114\n"
     ]
    }
   ],
   "source": [
    "gain_val_list = [math.sqrt(2)]  # Stores value of gain after each iteration \n",
    "max_iter_gain = 10              # Max number of iterations for calculating value of gain\n",
    "iterations_list = [0]           # List that Stores the number of iterations performed\n",
    "\n",
    "for i in range (1, max_iter_gain):\n",
    "    gain_val_list.append(gain_val_list[i-1] * math.sqrt(1 + 2**(-2 * i)))\n",
    "    iterations_list.append(i)\n",
    "\n",
    "# Plot for value of gain with each iteration\n",
    "plot(iterations_list, gain_val_list, 'Iterations (i) $\\\\rightarrow$', 'Gain $A_{n}$ $\\\\rightarrow$',\n",
    "     'Variation of A$_{n}$ with number of iterations')\n",
    "print \"Gain of the system is \" + str(gain_val_list[len(gain_val_list) - 1])"
   ]
  },
  {
   "cell_type": "markdown",
   "metadata": {
    "collapsed": true
   },
   "source": [
    "As evident from the plot above $A_{n} \\approx 1.647$ as $n \\rightarrow \\infty$. $A_{n}$ is also refered as the gain of the system."
   ]
  },
  {
   "cell_type": "code",
   "execution_count": 11,
   "metadata": {
    "collapsed": true
   },
   "outputs": [],
   "source": [
    "a = 0.607252935         # inverse of gain 1 / An"
   ]
  },
  {
   "cell_type": "markdown",
   "metadata": {},
   "source": [
    "### Python implementation of Rotation mode\n",
    "Returns dictionary containing one list for each x, y, z and iterations "
   ]
  },
  {
   "cell_type": "code",
   "execution_count": 12,
   "metadata": {
    "collapsed": true
   },
   "outputs": [],
   "source": [
    "def ROM_lookup(iteration, coordinate):\n",
    "    if (coordinate == circular):\n",
    "        return math.degrees(math.atan(2**(-1*iteration)))\n",
    "    elif (coordinate == linear):\n",
    "        return 2**(-1*iteration)\n",
    "    elif (coordinate == hyperbolic):\n",
    "        return math.degrees(math.atanh(2**(-1*iteration)))"
   ]
  },
  {
   "cell_type": "code",
   "execution_count": 13,
   "metadata": {
    "collapsed": false,
    "scrolled": true
   },
   "outputs": [],
   "source": [
    "def rotation_mode(x, y, z, coordinate, iterations):\n",
    "    a = 0.607252935;   # = 1/K\n",
    "    \n",
    "    x_val_list = []\n",
    "    y_val_list = []\n",
    "    z_val_list = []\n",
    "    iterations_list = []\n",
    "\n",
    "    i = 0;                  # Keeps count on number of iterations\n",
    "    \n",
    "    current_x = x         # Value of X on ith iteration \n",
    "    current_y = y         # Value of Y on ith iteration\n",
    "    current_z = z         # Value of Z on ith iteration\n",
    "    \n",
    "    di = 0\n",
    "    \n",
    "    if (coordinate == hyperbolic):\n",
    "        i = 1\n",
    "    else:\n",
    "        i = 0\n",
    "        \n",
    "    flag = 0\n",
    "    \n",
    "    if (iterations > 0):\n",
    "        while (i < max_iter):\n",
    "            if (current_y < 0):\n",
    "                di = +1\n",
    "            else:\n",
    "                di = -1\n",
    "            next_z = current_z - di * ROM_lookup(i, coordinate)\n",
    "            next_x = current_x - coordinate * di * current_y * (2**(-1*i))\n",
    "            next_y = current_y + di * current_x * 2**(-1*i)\n",
    "            \n",
    "            current_x = next_x\n",
    "            current_y = next_y\n",
    "            current_z = next_z\n",
    "\n",
    "            x_val_list.append(current_x)\n",
    "            y_val_list.append(current_y)\n",
    "            z_val_list.append(current_z)\n",
    "            \n",
    "            iterations_list.append(i)\n",
    "            \n",
    "            if (coordinate == hyperbolic):\n",
    "                if ((i != 4) & (i != 13) & (i!=40)):\n",
    "                    print i\n",
    "                    i = i+1\n",
    "                elif (flag == 0):\n",
    "                    flag = 1\n",
    "                elif (flag == 1):\n",
    "                    flag = 0\n",
    "                    i = i+1\n",
    "            else:\n",
    "                i = i+1\n",
    "    return { 'x':x_val_list, 'y':y_val_list, 'z':z_val_list, 'iteration':iterations_list, }\n",
    "\n",
    "##### Angle for calculation in rotation mode"
   ]
  },
  {
   "cell_type": "code",
   "execution_count": 14,
   "metadata": {
    "collapsed": true
   },
   "outputs": [],
   "source": [
    "angle = 30 # degrees"
   ]
  },
  {
   "cell_type": "code",
   "execution_count": 15,
   "metadata": {
    "collapsed": false
   },
   "outputs": [
    {
     "name": "stdout",
     "output_type": "stream",
     "text": [
      "1\n",
      "2\n",
      "3\n",
      "5\n",
      "6\n",
      "7\n",
      "8\n",
      "9\n",
      "10\n",
      "11\n",
      "12\n",
      "14\n",
      "15\n",
      "16\n",
      "17\n",
      "18\n",
      "19\n",
      "20\n",
      "21\n",
      "22\n",
      "23\n",
      "24\n",
      "25\n",
      "26\n",
      "27\n",
      "28\n",
      "29\n",
      "30\n",
      "31\n",
      "32\n",
      "33\n",
      "34\n",
      "35\n",
      "36\n",
      "37\n",
      "38\n",
      "39\n",
      "41\n",
      "42\n",
      "43\n",
      "44\n",
      "45\n",
      "46\n",
      "47\n",
      "48\n",
      "49\n"
     ]
    }
   ],
   "source": [
    "result_dict = rotation_mode(1, 3, 0, hyperbolic, max_iter)"
   ]
  },
  {
   "cell_type": "markdown",
   "metadata": {},
   "source": [
    "#### Plot of $cosz_{0}$ with iterations"
   ]
  },
  {
   "cell_type": "code",
   "execution_count": 16,
   "metadata": {
    "collapsed": false
   },
   "outputs": [
    {
     "data": {
      "image/png": "[encoded data removed]",
      "text/plain": [
       "<matplotlib.figure.Figure at 0x7f39f5fcbcd0>"
      ]
     },
     "metadata": {},
     "output_type": "display_data"
    },
    {
     "name": "stdout",
     "output_type": "stream",
     "text": [
      "-1.99214312248\n"
     ]
    }
   ],
   "source": [
    "plot(result_dict['iteration'], result_dict['x'], 'Iterations $\\\\rightarrow$', 'cos z$_{0}$ $\\\\rightarrow$', 'Variation of cos z$_{0}$ with number of iterations')\n",
    "print result_dict['x'][max_iter-2]"
   ]
  },
  {
   "cell_type": "markdown",
   "metadata": {},
   "source": [
    "#### Plot of $sinz_{0}$ with iterations"
   ]
  },
  {
   "cell_type": "code",
   "execution_count": 17,
   "metadata": {
    "collapsed": false
   },
   "outputs": [
    {
     "data": {
      "image/png": "[encoded data removed]",
      "text/plain": [
       "<matplotlib.figure.Figure at 0x7f39f5f53610>"
      ]
     },
     "metadata": {},
     "output_type": "display_data"
    },
    {
     "name": "stdout",
     "output_type": "stream",
     "text": [
      "3.07496628235\n"
     ]
    }
   ],
   "source": [
    "plot(result_dict['iteration'], result_dict['y'], 'Iterations $\\\\rightarrow$', 'sin z$_{0}$ $\\\\rightarrow$', 'Variation of sin z$_{0}$ with number of iterations')\n",
    "print result_dict['y'][max_iter-2]"
   ]
  },
  {
   "cell_type": "markdown",
   "metadata": {},
   "source": [
    "#### Plot of z with iterations"
   ]
  },
  {
   "cell_type": "code",
   "execution_count": 18,
   "metadata": {
    "collapsed": false
   },
   "outputs": [
    {
     "data": {
      "image/png": "[encoded data removed]",
      "text/plain": [
       "<matplotlib.figure.Figure at 0x7f39f62c7c50>"
      ]
     },
     "metadata": {},
     "output_type": "display_data"
    }
   ],
   "source": [
    "plot(result_dict['iteration'], result_dict['z'], 'i $\\\\rightarrow$', 'z$_{i}$ $\\\\rightarrow$', 'Variation of z$_{i}$ with i')"
   ]
  },
  {
   "cell_type": "markdown",
   "metadata": {},
   "source": [
    "# Vector mode\n",
    "In vector mode vector is initialised with given angle, on each further iteration the value of angle is reduced by rotating the vector by fixed amount.\n",
    "\n",
    "Equations used in vector mode are (same as rotation mode):\n",
    "\n",
    "\n",
    "\\begin{equation}\n",
    "    x_{i+1} = x_{i} - y_{i} \\cdot d_{i} \\cdot 2^{-i}      \n",
    "\\end{equation}\n",
    "\n",
    "\n",
    "\\begin{equation}\n",
    "    y_{i+1} = y_{i} + x_{i} \\cdot d_{i} \\cdot 2^{-i}\n",
    "\\end{equation}\n",
    "\n",
    "\\begin{equation}\n",
    "    z_{i+1} = Z_{i} - d_{i} \\cdot tan^{-1}(2^{-i})     \n",
    "\\end{equation}\n",
    "\n",
    "\n",
    "\\begin{equation}\n",
    "^{(for \\space i^{th} \\space iteration)}\n",
    "\\end{equation}\n",
    "\n",
    "Value of $d_{i}$ is chosen such that z reduces at each iteration. Thus after n iterations if z = 0 then\n",
    "\n",
    "\n",
    "\\begin{equation}\n",
    "    x_{n} = A_{n} \\sqrt{ x_{0}^{2} - y_{0}^{2} }\n",
    "\\end{equation}\n",
    "\n",
    "\\begin{equation}\n",
    "    y_{n} = 0\n",
    "\\end{equation}\n",
    "\n",
    "\\begin{equation}\n",
    "    z_{n} = z_{0} + tanh^{-1}( \\dfrac{y_{0}}{x_{0}} )\n",
    "\\end{equation}\n",
    "\n",
    "where \n",
    "\n",
    "\\begin{equation}\n",
    "    A_{n} = {\\displaystyle \\prod_{i=0} ^{n}} \\sqrt{1+2^{-2i}}\n",
    "\\end{equation}"
   ]
  },
  {
   "cell_type": "code",
   "execution_count": 19,
   "metadata": {
    "collapsed": true
   },
   "outputs": [],
   "source": [
    "def vector_mode(x, y, z, iterations):\n",
    "    a = 0.607252935   # = 1/K\n",
    "    \n",
    "    i = 0                  # Keeps count on number of iterations\n",
    "    \n",
    "    current_x = x          # Value of X on ith iteration \n",
    "    current_y = y      # Value of Y on ith iteration\n",
    "    current_z = z          # Value of Z on ith iteration\n",
    "    \n",
    "    di = 0\n",
    "    \n",
    "    if (iterations > 0):\n",
    "        for i in range(iterations):\n",
    "            if (current_y < 0):\n",
    "                di = +1\n",
    "            else:\n",
    "                di = -1\n",
    "            next_z = current_z - di * math.degrees(math.atan(2**(-1*i)))\n",
    "            next_x = current_x - di * current_y * 2**(-1*i)\n",
    "            next_y = current_y + di * current_x * 2**(-1*i)\n",
    "            \n",
    "            #print current_z;\n",
    "            \n",
    "            current_x = next_x\n",
    "            current_y = next_y\n",
    "            current_z = next_z\n",
    "    return { 'atan':current_z}\n"
   ]
  },
  {
   "cell_type": "markdown",
   "metadata": {},
   "source": [
    "## Calculations for magnitude of vector"
   ]
  },
  {
   "cell_type": "code",
   "execution_count": 20,
   "metadata": {
    "collapsed": false
   },
   "outputs": [
    {
     "ename": "NameError",
     "evalue": "name 'atan_list' is not defined",
     "output_type": "error",
     "traceback": [
      "\u001b[0;31m---------------------------------------------------------------------------\u001b[0m",
      "\u001b[0;31mNameError\u001b[0m                                 Traceback (most recent call last)",
      "\u001b[0;32m<ipython-input-20-b29718141c13>\u001b[0m in \u001b[0;36m<module>\u001b[0;34m()\u001b[0m\n\u001b[1;32m      5\u001b[0m \u001b[0;32mfor\u001b[0m \u001b[0mi\u001b[0m \u001b[0;32min\u001b[0m \u001b[0mrange\u001b[0m\u001b[0;34m(\u001b[0m\u001b[0;36m1\u001b[0m\u001b[0;34m,\u001b[0m \u001b[0mmax_iter\u001b[0m\u001b[0;34m)\u001b[0m\u001b[0;34m:\u001b[0m\u001b[0;34m\u001b[0m\u001b[0m\n\u001b[1;32m      6\u001b[0m     \u001b[0miterations_list\u001b[0m\u001b[0;34m.\u001b[0m\u001b[0mappend\u001b[0m\u001b[0;34m(\u001b[0m\u001b[0mi\u001b[0m\u001b[0;34m)\u001b[0m\u001b[0;34m;\u001b[0m\u001b[0;34m\u001b[0m\u001b[0m\n\u001b[0;32m----> 7\u001b[0;31m     \u001b[0matan_list\u001b[0m\u001b[0;34m.\u001b[0m\u001b[0mappend\u001b[0m\u001b[0;34m(\u001b[0m\u001b[0mvector_mode\u001b[0m\u001b[0;34m(\u001b[0m\u001b[0;36m1\u001b[0m\u001b[0;34m,\u001b[0m \u001b[0;36m12\u001b[0m\u001b[0;34m,\u001b[0m \u001b[0;36m0\u001b[0m\u001b[0;34m,\u001b[0m \u001b[0mi\u001b[0m\u001b[0;34m)\u001b[0m\u001b[0;34m[\u001b[0m\u001b[0;34m'atan'\u001b[0m\u001b[0;34m]\u001b[0m\u001b[0;34m)\u001b[0m\u001b[0;34m\u001b[0m\u001b[0m\n\u001b[0m",
      "\u001b[0;31mNameError\u001b[0m: name 'atan_list' is not defined"
     ]
    }
   ],
   "source": [
    "mag_list = []\n",
    "iterations_list = []\n",
    "\n",
    "i = 10\n",
    "for i in range(1, max_iter):\n",
    "    iterations_list.append(i);\n",
    "    atan_list.append(vector_mode(1, 12, 0, i)['atan'])"
   ]
  },
  {
   "cell_type": "markdown",
   "metadata": {},
   "source": [
    "## Plot for tan$^{-1}$(y) with number of iterations"
   ]
  },
  {
   "cell_type": "code",
   "execution_count": null,
   "metadata": {
    "collapsed": false,
    "scrolled": false
   },
   "outputs": [],
   "source": [
    "# Plot for cos\n",
    "# ----\n",
    "fig = plt.figure()\n",
    "ax = fig.add_subplot(111)\n",
    "\n",
    "line, = ax.plot(iterations_list, atan_list,  lw=2)\n",
    "\n",
    "ax.set_title('Variation of tan$^{-1}$(Y) with number of iterations')\n",
    "ax.set_xlabel('Iterations (i) $-->$')\n",
    "ax.set_ylabel('tan$^{-1}$(Y) $\\Rightarrow$')\n",
    "plt.show()\n",
    "plt.close()\n",
    "\n",
    "print \"Expected value: \" + str(math.degrees(math.atan(12))) + \", Got: \" + str(atan_list[max_iter - 2]);"
   ]
  },
  {
   "cell_type": "markdown",
   "metadata": {},
   "source": [
    "## Calculations for tan$^{-1}$(y)"
   ]
  },
  {
   "cell_type": "code",
   "execution_count": null,
   "metadata": {
    "collapsed": false
   },
   "outputs": [],
   "source": [
    "atan_list = [];\n",
    "iterations_list = [];\n",
    "\n",
    "i = 10;\n",
    "for i in range(1, max_iter):\n",
    "    iterations_list.append(i);\n",
    "    atan_list.append(vector_mode(1, 12, 0, i)['atan']);"
   ]
  },
  {
   "cell_type": "markdown",
   "metadata": {},
   "source": [
    "## Plot for tan$^{-1}$(y) with number of iterations"
   ]
  },
  {
   "cell_type": "code",
   "execution_count": null,
   "metadata": {
    "collapsed": false,
    "scrolled": false
   },
   "outputs": [],
   "source": [
    "# Plot for cos\n",
    "# ----\n",
    "fig = plt.figure();\n",
    "ax = fig.add_subplot(111);\n",
    "\n",
    "line, = ax.plot(iterations_list, atan_list,  lw=2);\n",
    "\n",
    "ax.set_title('Variation of tan$^{-1}$(Y) with number of iterations');\n",
    "ax.set_xlabel('Iterations (i) $-->$');\n",
    "ax.set_ylabel('tan$^{-1}$(Y) $\\Rightarrow$');\n",
    "plt.show();\n",
    "plt.close();\n",
    "\n",
    "print \"Expected value: \" + str(math.degrees(math.atan(12))) + \", Got: \" + str(atan_list[max_iter - 2]);"
   ]
  },
  {
   "cell_type": "markdown",
   "metadata": {},
   "source": [
    "## Magnitude of a vector"
   ]
  },
  {
   "cell_type": "code",
   "execution_count": null,
   "metadata": {
    "collapsed": false
   },
   "outputs": [],
   "source": [
    "math.sin(math.pi)"
   ]
  },
  {
   "cell_type": "markdown",
   "metadata": {
    "collapsed": true
   },
   "source": [
    "# References\n",
    "1. [*A survey of CORDIC algorithms for FPGA based computers*](http://portal.acm.org/citation.cfm?doid=275107.275139) by Andraka, Ray (1998).\n",
    "2. *Cordic_Architeutre - QIP STC-Image Processing using VLSI architecture* by Das, Bishnu Prasad (2016)"
   ]
  },
  {
   "cell_type": "code",
   "execution_count": null,
   "metadata": {
    "collapsed": false
   },
   "outputs": [],
   "source": [
    "print math.sinh(30);print math.cosh(30)"
   ]
  },
  {
   "cell_type": "code",
   "execution_count": null,
   "metadata": {
    "collapsed": true
   },
   "outputs": [],
   "source": []
  }
 ],
 "metadata": {
  "kernelspec": {
   "display_name": "Python 2",
   "language": "python",
   "name": "python2"
  },
  "language_info": {
   "codemirror_mode": {
    "name": "ipython",
    "version": 2
   },
   "file_extension": ".py",
   "mimetype": "text/x-python",
   "name": "python",
   "nbconvert_exporter": "python",
   "pygments_lexer": "ipython2",
   "version": "2.7.13"
  }
 },
 "nbformat": 4,
 "nbformat_minor": 2
}
