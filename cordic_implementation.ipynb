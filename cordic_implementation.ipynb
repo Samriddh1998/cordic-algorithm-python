{
 "cells": [
  {
   "cell_type": "markdown",
   "metadata": {},
   "source": [
    "# CORDIC Algorithm\n",
    "This implementation of CORDIC algorithm is based on the paper '**A survey of CORDIC algorithms for FPGA based computers**' published by Ray Andraka, 1998\n",
    "Following scripts demonstrates CORDIC algorithm implementation in Python 2.7. \n",
    "## Description\n",
    "Cordic algoritihms can be operated in two modes: Rotation mode and Vector mode.\n",
    "Variables and there description:  \n",
    "\n",
    "| Variable | Description                         |\n",
    "|----------|-------------------------------------|\n",
    "| x        | x-coordinate of initial vector      |\n",
    "| y        | y-coordinate of initial vector      |\n",
    "| z        | Initial angle of vector with x-axis |"
   ]
  },
  {
   "cell_type": "code",
   "execution_count": 6,
   "metadata": {
    "collapsed": true
   },
   "outputs": [],
   "source": [
    "%matplotlib inline\n",
    "\n",
    "import matplotlib\n",
    "import numpy as np\n",
    "import matplotlib.pyplot as plt\n",
    "\n",
    "import math\n",
    "\n",
    "from __future__ import division"
   ]
  },
  {
   "cell_type": "code",
   "execution_count": 7,
   "metadata": {
    "collapsed": true
   },
   "outputs": [],
   "source": [
    "max_iter = 200;"
   ]
  },
  {
   "cell_type": "markdown",
   "metadata": {},
   "source": [
    "# Modes of CORDIC Algorithms\n",
    "CORDIC algorithms is usualy operated in one of the following two modes:\n",
    "* **Rotation mode** \n",
    "* **Vector mode**\n"
   ]
  },
  {
   "cell_type": "markdown",
   "metadata": {},
   "source": [
    "## Rotation Mode\n",
    "\n",
    "In rotation mode vector is initialised with given angle, on each further iteration the value of angle is reduced by rotating the vector by fixed amount.\n",
    "\n",
    "Equations used in rotation mode are:\n",
    "\n",
    "\n",
    "\\begin{equation}\n",
    "    x_{i+1} = x_{i} - y_{i} \\cdot d_{i} \\cdot 2^{-i}      \n",
    "\\end{equation}\n",
    "\n",
    "\n",
    "\\begin{equation}\n",
    "    y_{i+1} = y_{i} + x_{i} \\cdot d_{i} \\cdot 2^{-i}\n",
    "\\end{equation}\n",
    "\n",
    "\\begin{equation}\n",
    "    z_{i+1} = Z_{i} - d_{i} \\cdot tan^{-1}(2^{-i})     \n",
    "\\end{equation}\n",
    "\n",
    "\n",
    "\\begin{equation}\n",
    "^{(for \\space i^{th} \\space iteration)}\n",
    "\\end{equation}\n",
    "\n",
    "Value of $d_{i}$ is chosen such that z reduces at each iteration. Thus after n iterations if z = 0 then\n",
    "\n",
    "\n",
    "\\begin{equation}\n",
    "    x_{n} = A_{n} \\cdot [ x_{0} \\cdot cos z_{0} - y_{0} \\cdot sin z_{0} ]      \n",
    "\\end{equation}\n",
    "\n",
    "\\begin{equation}\n",
    "    x_{n} = A_{n} \\cdot [ y_{0} \\cdot cos z_{0} + x_{0} \\cdot sin z_{0} ]      \n",
    "\\end{equation}\n",
    "\n",
    "\\begin{equation}\n",
    "    z_{n} = 0\n",
    "\\end{equation}\n",
    "\n",
    "where \n",
    "\n",
    "\\begin{equation}\n",
    "    A_{n} = {\\displaystyle \\prod_{i=0} ^{n}} \\sqrt{1+2^{-2i}}\n",
    "\\end{equation}\n",
    "\n",
    "Here A$_{n}$ $\\rightarrow$ 1.647... as n $\\rightarrow$ $\\infty$. A$_{n}$ is also reffered as the gain of the system.\n"
   ]
  },
  {
   "cell_type": "markdown",
   "metadata": {},
   "source": [
    "### Value of A$_{n}$ as n $\\rightarrow$ $\\infty$"
   ]
  },
  {
   "cell_type": "code",
   "execution_count": 21,
   "metadata": {
    "collapsed": false
   },
   "outputs": [
    {
     "data": {
      "image/png": "[encoded data removed]",
      "text/plain": [
       "<matplotlib.figure.Figure at 0x7f7c9b5ad390>"
      ]
     },
     "metadata": {},
     "output_type": "display_data"
    }
   ],
   "source": [
    "gain_val_list = [math.sqrt(2)];  # Stores value of gain after each iteration \n",
    "max_iter_gain = 10;              # Max number of iterations for calculating value of gain\n",
    "iterations_list = [0];           # List that Stores the number of iterations performed\n",
    "\n",
    "for i in range (1, max_iter_gain):\n",
    "    gain_val_list.append(gain_val_list[i-1] * math.sqrt(1 + 2**(-2 * i)));\n",
    "    iterations_list.append(i);\n",
    "    \n",
    "# Plot of Value of gain with number of iterations\n",
    "fig = plt.figure();\n",
    "ax = fig.add_subplot(111);\n",
    "\n",
    "line, = ax.plot(iterations_list, gain_val_list,  lw=2);\n",
    "\n",
    "ax.set_title('Variation of A$_{n}$ with number of iterations');\n",
    "ax.set_xlabel('Iterations (i) $-->$');\n",
    "ax.set_ylabel('Cos(Z) $\\Rightarrow$');\n",
    "ax.axis([0, max_iter_gain, 2, 1]);\n",
    "plt.show();\n",
    "plt.close();"
   ]
  },
  {
   "cell_type": "code",
   "execution_count": 8,
   "metadata": {
    "collapsed": true
   },
   "outputs": [],
   "source": [
    "def circular_mode(x, , iterations):\n",
    "    a = 0.607252935;   # = 1/K\n",
    "\n",
    "    i = 0;                  # Keeps count on number of iterations\n",
    "    \n",
    "    current_x = a;          # Value of X on ith iteration \n",
    "    current_y = 0;          # Value of Y on ith iteration\n",
    "    current_z = angle;      # Value of Z on ith iteration\n",
    "    \n",
    "    di = 0;\n",
    "    \n",
    "    if (iterations > 0):\n",
    "        for i in range(iterations):\n",
    "            if (current_z > 0):\n",
    "                di = +1;\n",
    "            else:\n",
    "                di = -1;\n",
    "            next_z = current_z - di * math.degrees(math.atan(2**(-1*i)));\n",
    "            next_x = current_x - di * current_y * 2**(-1*i);\n",
    "            next_y = current_y + di * current_x * 2**(-1*i);\n",
    "            \n",
    "            #print current_z;\n",
    "            \n",
    "            current_x = next_x;\n",
    "            current_y = next_y;\n",
    "            current_z = next_z;\n",
    "    #print current_z;\n",
    "    return { 'sin':current_y, 'cos':current_x };\n"
   ]
  },
  {
   "cell_type": "code",
   "execution_count": 9,
   "metadata": {
    "collapsed": false
   },
   "outputs": [
    {
     "name": "stdout",
     "output_type": "stream",
     "text": [
      "{'cos': 0.8660254037717727, 'sin': 0.4999999999926874}\n"
     ]
    }
   ],
   "source": [
    "print circular_mode(30, 10000)"
   ]
  },
  {
   "cell_type": "markdown",
   "metadata": {},
   "source": [
    "## Calculations for sine and cosine"
   ]
  },
  {
   "cell_type": "code",
   "execution_count": 10,
   "metadata": {
    "collapsed": false
   },
   "outputs": [],
   "source": [
    "cosine_list = [];\n",
    "sin_list = [];\n",
    "iterations_list = [];\n",
    "\n",
    "for i in range(1, max_iter):\n",
    "    iterations_list.append(i);\n",
    "    cosine_list.append(circular_mode(12, i)['cos']);\n",
    "    sin_list.append(circular_mode(12, i)['sin']);"
   ]
  },
  {
   "cell_type": "markdown",
   "metadata": {},
   "source": [
    "## Plot for cosine with number of iterations"
   ]
  },
  {
   "cell_type": "code",
   "execution_count": 11,
   "metadata": {
    "collapsed": false,
    "scrolled": true
   },
   "outputs": [
    {
     "data": {
      "image/png": "[encoded data removed]",
      "text/plain": [
       "<matplotlib.figure.Figure at 0x7f7c9f0b8990>"
      ]
     },
     "metadata": {},
     "output_type": "display_data"
    },
    {
     "name": "stdout",
     "output_type": "stream",
     "text": [
      "Expected value: 0.978147600734, Got: 0.978147600719\n"
     ]
    }
   ],
   "source": [
    "# Plot for cos\n",
    "# ----\n",
    "fig = plt.figure();\n",
    "ax = fig.add_subplot(111);\n",
    "\n",
    "line, = ax.plot(iterations_list, cosine_list,  lw=2);\n",
    "\n",
    "ax.set_title('Variation of Cos(Z) with number of iterations');\n",
    "ax.set_xlabel('Iterations (i) $-->$');\n",
    "ax.set_ylabel('Cos(Z) $\\Rightarrow$');\n",
    "ax.axis([0, max_iter, 0.6, 1]);\n",
    "plt.show();\n",
    "plt.close();\n",
    "\n",
    "print \"Expected value: \" + str(math.cos(math.radians(12))) + \", Got: \" + str(cosine_list[max_iter - 2]);"
   ]
  },
  {
   "cell_type": "markdown",
   "metadata": {},
   "source": [
    "## Plot for Sine with number of iterations\n",
    "Plots for value of sine and cosine for a given angle and number of iterations shows how their value approaches actual value with increase in number of iterations"
   ]
  },
  {
   "cell_type": "code",
   "execution_count": 12,
   "metadata": {
    "collapsed": false,
    "scrolled": true
   },
   "outputs": [
    {
     "data": {
      "image/png": "[encoded data removed]",
      "text/plain": [
       "<matplotlib.figure.Figure at 0x7f7c9ba39f10>"
      ]
     },
     "metadata": {},
     "output_type": "display_data"
    },
    {
     "name": "stdout",
     "output_type": "stream",
     "text": [
      "Expected value: 0.207911690818, Got: 0.207911690815\n"
     ]
    }
   ],
   "source": [
    "# Plot for sin\n",
    "# ----\n",
    "fig = plt.figure();\n",
    "ax = fig.add_subplot(111);\n",
    "\n",
    "line, = ax.plot(iterations_list, sin_list,  lw=2);\n",
    "\n",
    "ax.set_title('Variation of Sin(Z) with number of iterations');\n",
    "ax.set_xlabel('Iterations (i) $-->$');\n",
    "ax.set_ylabel('Sin(Z) $\\Rightarrow$');\n",
    "ax.axis([0, max_iter, 0, 0.6]);\n",
    "plt.show();\n",
    "plt.close();\n",
    "\n",
    "print \"Expected value: \" + str(math.sin(math.radians(12))) + \", Got: \" + str(sin_list[max_iter-2]);"
   ]
  },
  {
   "cell_type": "markdown",
   "metadata": {},
   "source": [
    "# Vector mode"
   ]
  },
  {
   "cell_type": "code",
   "execution_count": 32,
   "metadata": {
    "collapsed": true
   },
   "outputs": [],
   "source": [
    "def vector_mode(x, y, z, iterations):\n",
    "    a = 0.607252935;   # = 1/K\n",
    "    \n",
    "    i = 0;                  # Keeps count on number of iterations\n",
    "    \n",
    "    current_x = x;          # Value of X on ith iteration \n",
    "    current_y = y;      # Value of Y on ith iteration\n",
    "    current_z = z;          # Value of Z on ith iteration\n",
    "    \n",
    "    di = 0;\n",
    "    \n",
    "    if (iterations > 0):\n",
    "        for i in range(iterations):\n",
    "            if (current_y < 0):\n",
    "                di = +1;\n",
    "            else:\n",
    "                di = -1;\n",
    "            next_z = current_z - di * math.degrees(math.atan(2**(-1*i)));\n",
    "            next_x = current_x - di * current_y * 2**(-1*i);\n",
    "            next_y = current_y + di * current_x * 2**(-1*i);\n",
    "            \n",
    "            #print current_z;\n",
    "            \n",
    "            current_x = next_x;\n",
    "            current_y = next_y;\n",
    "            current_z = next_z;\n",
    "    return { 'atan':current_z};\n"
   ]
  },
  {
   "cell_type": "markdown",
   "metadata": {},
   "source": [
    "## Calculations for magnitude of vector"
   ]
  },
  {
   "cell_type": "code",
   "execution_count": 33,
   "metadata": {
    "collapsed": false
   },
   "outputs": [],
   "source": [
    "mag_list = [];\n",
    "iterations_list = [];\n",
    "\n",
    "i = 10;\n",
    "for i in range(1, max_iter):\n",
    "    iterations_list.append(i);\n",
    "    atan_list.append(vector_mode(1, 12, 0, i)['atan']);"
   ]
  },
  {
   "cell_type": "markdown",
   "metadata": {},
   "source": [
    "## Plot for tan$^{-1}$(y) with number of iterations"
   ]
  },
  {
   "cell_type": "code",
   "execution_count": 34,
   "metadata": {
    "collapsed": false,
    "scrolled": false
   },
   "outputs": [
    {
     "data": {
      "image/png": "[encoded data removed]",
      "text/plain": [
       "<matplotlib.figure.Figure at 0x7f640b28ba10>"
      ]
     },
     "metadata": {},
     "output_type": "display_data"
    },
    {
     "name": "stdout",
     "output_type": "stream",
     "text": [
      "Expected value: 85.2363583093, Got: 85.2362360745\n"
     ]
    }
   ],
   "source": [
    "# Plot for cos\n",
    "# ----\n",
    "fig = plt.figure();\n",
    "ax = fig.add_subplot(111);\n",
    "\n",
    "line, = ax.plot(iterations_list, atan_list,  lw=2);\n",
    "\n",
    "ax.set_title('Variation of tan$^{-1}$(Y) with number of iterations');\n",
    "ax.set_xlabel('Iterations (i) $-->$');\n",
    "ax.set_ylabel('tan$^{-1}$(Y) $\\Rightarrow$');\n",
    "plt.show();\n",
    "plt.close();\n",
    "\n",
    "print \"Expected value: \" + str(math.degrees(math.atan(12))) + \", Got: \" + str(atan_list[max_iter - 2]);"
   ]
  },
  {
   "cell_type": "markdown",
   "metadata": {},
   "source": [
    "## Calculations for tan$^{-1}$(y)"
   ]
  },
  {
   "cell_type": "code",
   "execution_count": 33,
   "metadata": {
    "collapsed": false
   },
   "outputs": [],
   "source": [
    "atan_list = [];\n",
    "iterations_list = [];\n",
    "\n",
    "i = 10;\n",
    "for i in range(1, max_iter):\n",
    "    iterations_list.append(i);\n",
    "    atan_list.append(vector_mode(1, 12, 0, i)['atan']);"
   ]
  },
  {
   "cell_type": "markdown",
   "metadata": {},
   "source": [
    "## Plot for tan$^{-1}$(y) with number of iterations"
   ]
  },
  {
   "cell_type": "code",
   "execution_count": 34,
   "metadata": {
    "collapsed": false,
    "scrolled": false
   },
   "outputs": [
    {
     "data": {
      "image/png": "[encoded data removed]",
      "text/plain": [
       "<matplotlib.figure.Figure at 0x7f640b28ba10>"
      ]
     },
     "metadata": {},
     "output_type": "display_data"
    },
    {
     "name": "stdout",
     "output_type": "stream",
     "text": [
      "Expected value: 85.2363583093, Got: 85.2362360745\n"
     ]
    }
   ],
   "source": [
    "# Plot for cos\n",
    "# ----\n",
    "fig = plt.figure();\n",
    "ax = fig.add_subplot(111);\n",
    "\n",
    "line, = ax.plot(iterations_list, atan_list,  lw=2);\n",
    "\n",
    "ax.set_title('Variation of tan$^{-1}$(Y) with number of iterations');\n",
    "ax.set_xlabel('Iterations (i) $-->$');\n",
    "ax.set_ylabel('tan$^{-1}$(Y) $\\Rightarrow$');\n",
    "plt.show();\n",
    "plt.close();\n",
    "\n",
    "print \"Expected value: \" + str(math.degrees(math.atan(12))) + \", Got: \" + str(atan_list[max_iter - 2]);"
   ]
  },
  {
   "cell_type": "markdown",
   "metadata": {},
   "source": [
    "## Magnitude of a vector"
   ]
  },
  {
   "cell_type": "code",
   "execution_count": null,
   "metadata": {
    "collapsed": true
   },
   "outputs": [],
   "source": []
  },
  {
   "cell_type": "markdown",
   "metadata": {
    "collapsed": true
   },
   "source": [
    "# References\n",
    "1. [*A survey of CORDIC algorithms for FPGA based computers*](http://portal.acm.org/citation.cfm?doid=275107.275139) by Andraka, Ray (1998).\n",
    "2. *Cordic_Architeutre - QIP STC-Image Processing using VLSI architecture* by Das, Bishnu Prasad (2016)"
   ]
  },
  {
   "cell_type": "code",
   "execution_count": null,
   "metadata": {
    "collapsed": true
   },
   "outputs": [],
   "source": []
  }
 ],
 "metadata": {
  "kernelspec": {
   "display_name": "Python 2",
   "language": "python",
   "name": "python2"
  },
  "language_info": {
   "codemirror_mode": {
    "name": "ipython",
    "version": 2
   },
   "file_extension": ".py",
   "mimetype": "text/x-python",
   "name": "python",
   "nbconvert_exporter": "python",
   "pygments_lexer": "ipython2",
   "version": "2.7.13"
  }
 },
 "nbformat": 4,
 "nbformat_minor": 2
}
