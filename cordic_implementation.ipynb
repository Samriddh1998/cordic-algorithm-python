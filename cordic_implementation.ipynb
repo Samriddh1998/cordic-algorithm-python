{
 "cells": [
  {
   "cell_type": "markdown",
   "metadata": {},
   "source": [
    "# CORDIC Algorithm\n",
    "This implementation of CORDIC algorithm in Rotation and Vector mode using python 2.7.\n",
    "\n",
    "## Description\n",
    "Cordic algoritihms can be operated in two modes: Rotation mode and Vector mode.\n",
    "Variables and there description:  \n",
    "\n",
    "| Variable | Description                         |\n",
    "|----------|-------------------------------------|\n",
    "| x        | x-coordinate of initial vector      |\n",
    "| y        | y-coordinate of initial vector      |\n",
    "| z        | Initial angle of vector with x-axis |"
   ]
  },
  {
   "cell_type": "code",
   "execution_count": 75,
   "metadata": {
    "collapsed": true
   },
   "outputs": [],
   "source": [
    "%matplotlib inline\n",
    "\n",
    "import matplotlib\n",
    "import numpy as np\n",
    "import matplotlib.pyplot as plt\n",
    "\n",
    "import math\n",
    "\n",
    "from __future__ import division"
   ]
  },
  {
   "cell_type": "code",
   "execution_count": 76,
   "metadata": {
    "collapsed": true
   },
   "outputs": [],
   "source": [
    "max_iter = 50"
   ]
  },
  {
   "cell_type": "code",
   "execution_count": 77,
   "metadata": {
    "collapsed": true
   },
   "outputs": [],
   "source": [
    "def plot(x_values, y_values, x_label, y_label, plot_label):\n",
    "    # Plot of Value of gain with number of iterations\n",
    "    fig = plt.figure();\n",
    "    ax = fig.add_subplot(111);\n",
    "\n",
    "    line, = ax.plot(x_values, y_values,  lw=2);\n",
    "\n",
    "    ax.set_title(plot_label);\n",
    "    ax.set_xlabel(x_label);\n",
    "    ax.set_ylabel(y_label);\n",
    "    plt.show();\n",
    "    plt.close();\n",
    "    return;"
   ]
  },
  {
   "cell_type": "markdown",
   "metadata": {},
   "source": [
    "# Modes of CORDIC Algorithms\n",
    "CORDIC algorithms is usualy operated in one of the following two modes:\n",
    "* **Rotation mode** \n",
    "* **Vector mode**\n"
   ]
  },
  {
   "cell_type": "markdown",
   "metadata": {},
   "source": [
    "## Rotation Mode\n",
    "\n",
    "In rotation mode vector is initialised with given angle, on each further iteration the value of angle is reduced by rotating the vector by fixed amount.\n",
    "\n",
    "Equations used in rotation mode are:\n",
    "\n",
    "\n",
    "\\begin{equation}\n",
    "    x_{i+1} = x_{i} - y_{i} \\cdot d_{i} \\cdot 2^{-i}      \n",
    "\\end{equation}\n",
    "\n",
    "\n",
    "\\begin{equation}\n",
    "    y_{i+1} = y_{i} + x_{i} \\cdot d_{i} \\cdot 2^{-i}\n",
    "\\end{equation}\n",
    "\n",
    "\\begin{equation}\n",
    "    z_{i+1} = Z_{i} - d_{i} \\cdot tan^{-1}(2^{-i})     \n",
    "\\end{equation}\n",
    "\n",
    "\n",
    "\\begin{equation}\n",
    "^{(for \\space i^{th} \\space iteration)}\n",
    "\\end{equation}\n",
    "\n",
    "Value of $d_{i}$ is chosen such that z reduces at each iteration. Thus after n iterations if z = 0 then\n",
    "\n",
    "\n",
    "\\begin{equation}\n",
    "    x_{n} = A_{n} \\cdot [ x_{0} \\cdot cos z_{0} - y_{0} \\cdot sin z_{0} ]      \n",
    "\\end{equation}\n",
    "\n",
    "\\begin{equation}\n",
    "    x_{n} = A_{n} \\cdot [ y_{0} \\cdot cos z_{0} + x_{0} \\cdot sin z_{0} ]      \n",
    "\\end{equation}\n",
    "\n",
    "\\begin{equation}\n",
    "    z_{n} = 0\n",
    "\\end{equation}\n",
    "\n",
    "where \n",
    "\n",
    "\\begin{equation}\n",
    "    A_{n} = {\\displaystyle \\prod_{i=0} ^{n}} \\sqrt{1+2^{-2i}}\n",
    "\\end{equation}"
   ]
  },
  {
   "cell_type": "markdown",
   "metadata": {},
   "source": [
    "### Value of A$_{n}$ as n $\\rightarrow$ $\\infty$"
   ]
  },
  {
   "cell_type": "code",
   "execution_count": 105,
   "metadata": {
    "collapsed": false
   },
   "outputs": [
    {
     "data": {
      "image/png": "[encoded data removed]",
      "text/plain": [
       "<matplotlib.figure.Figure at 0x7f335fe5bf90>"
      ]
     },
     "metadata": {},
     "output_type": "display_data"
    },
    {
     "name": "stdout",
     "output_type": "stream",
     "text": [
      "Gain of the system is 1.64675921114\n"
     ]
    }
   ],
   "source": [
    "gain_val_list = [math.sqrt(2)];  # Stores value of gain after each iteration \n",
    "max_iter_gain = 10;              # Max number of iterations for calculating value of gain\n",
    "iterations_list = [0];           # List that Stores the number of iterations performed\n",
    "\n",
    "for i in range (1, max_iter_gain):\n",
    "    gain_val_list.append(gain_val_list[i-1] * math.sqrt(1 + 2**(-2 * i)));\n",
    "    iterations_list.append(i);\n",
    "\n",
    "# Plot for value of gain with each iteration\n",
    "plot(iterations_list, gain_val_list, 'Iterations (i) $\\\\rightarrow$', 'Gain $A_{n}$ $\\\\rightarrow$',\n",
    "     'Variation of A$_{n}$ with number of iterations');\n",
    "print \"Gain of the system is \" + str(gain_val_list[len(gain_val_list) - 1]);"
   ]
  },
  {
   "cell_type": "markdown",
   "metadata": {
    "collapsed": true
   },
   "source": [
    "As evident from the plot above A$_{n}$ $\\approx$ 1.647 as n $\\rightarrow$ $\\infty$. A$_{n}$ is also reffered as the gain of the system."
   ]
  },
  {
   "cell_type": "code",
   "execution_count": 79,
   "metadata": {
    "collapsed": true
   },
   "outputs": [],
   "source": [
    "a = 0.607252935;\n",
    "\n",
    "angle = 12; # degrees\n",
    "cosine_list = [];\n",
    "sin_list = [];\n",
    "iterations_list = [];"
   ]
  },
  {
   "cell_type": "code",
   "execution_count": 80,
   "metadata": {
    "collapsed": true
   },
   "outputs": [],
   "source": [
    "i = 0;                  # Keeps count on number of iterations\n",
    "\n",
    "current_x = a;          # Value of X on ith iteration \n",
    "current_y = 0;          # Value of Y on ith iteration\n",
    "current_z = angle;      # Value of Z on ith iteration\n",
    "\n",
    "di = 0;"
   ]
  },
  {
   "cell_type": "code",
   "execution_count": 88,
   "metadata": {
    "collapsed": true
   },
   "outputs": [],
   "source": [
    "def rotation_mode(x, y, z, iterations):\n",
    "    a = 0.607252935;   # = 1/K\n",
    "    \n",
    "    x_val_list = [];\n",
    "    y_val_list = [];\n",
    "    z_val_list = [];\n",
    "    iterations_list = [];\n",
    "\n",
    "    i = 0;                  # Keeps count on number of iterations\n",
    "    \n",
    "    current_x = x;          # Value of X on ith iteration \n",
    "    current_y = y;          # Value of Y on ith iteration\n",
    "    current_z = z;          # Value of Z on ith iteration\n",
    "    \n",
    "    di = 0;\n",
    "    \n",
    "    if (iterations > 0):\n",
    "        for i in range(iterations):\n",
    "            if (current_z > 0):\n",
    "                di = +1;\n",
    "            else:\n",
    "                di = -1;\n",
    "            next_z = current_z - di * math.degrees(math.atan(2**(-1*i)));\n",
    "            next_x = current_x - di * current_y * 2**(-1*i);\n",
    "            next_y = current_y + di * current_x * 2**(-1*i);\n",
    "            \n",
    "            current_x = next_x;\n",
    "            current_y = next_y;\n",
    "            current_z = next_z;\n",
    "\n",
    "            x_val_list.append(current_x);\n",
    "            y_val_list.append(current_y);\n",
    "            z_val_list.append(current_z);\n",
    "            \n",
    "            iterations_list.append(i);\n",
    "    return { 'x':x_val_list, 'y':y_val_list, 'z':z_val_list, 'iteration':iterations_list, };\n"
   ]
  },
  {
   "cell_type": "code",
   "execution_count": 107,
   "metadata": {
    "collapsed": false
   },
   "outputs": [
    {
     "data": {
      "image/png": "[encoded data removed]",
      "text/plain": [
       "<matplotlib.figure.Figure at 0x7f335ff8f7d0>"
      ]
     },
     "metadata": {},
     "output_type": "display_data"
    },
    {
     "data": {
      "image/png": "[encoded data removed]",
      "text/plain": [
       "<matplotlib.figure.Figure at 0x7f335ff8f790>"
      ]
     },
     "metadata": {},
     "output_type": "display_data"
    },
    {
     "data": {
      "image/png": "[encoded data removed]",
      "text/plain": [
       "<matplotlib.figure.Figure at 0x7f3360269b90>"
      ]
     },
     "metadata": {},
     "output_type": "display_data"
    }
   ],
   "source": [
    "a = 0.607252935;\n",
    "\n",
    "angle = 12; # degrees\n",
    "\n",
    "result_dict = rotation_mode(a, 0, angle, max_iter);\n",
    "\n",
    "# plot(x_values, y_values, x_label, y_label, plot_label):\n",
    "plot(result_dict['iteration'], result_dict['x'], 'Iterations $\\\\rightarrow$', 'cos z$_{0}$ $\\\\rightarrow$', 'Variation of cos z$_{0}$ with number of iterations');\n",
    "plot(result_dict['iteration'], result_dict['y'], 'Iterations $\\\\rightarrow$', 'sin z$_{0}$ $\\\\rightarrow$', 'Variation of sin z$_{0}$ with number of iterations');\n",
    "plot(result_dict['iteration'], result_dict['z'], 'i $\\\\rightarrow$', 'z$_{i}$ $\\\\rightarrow$', 'Variation of z$_{i}$ with i');\n"
   ]
  },
  {
   "cell_type": "markdown",
   "metadata": {},
   "source": [
    "# Vector mode"
   ]
  },
  {
   "cell_type": "code",
   "execution_count": null,
   "metadata": {
    "collapsed": true
   },
   "outputs": [],
   "source": [
    "def vector_mode(x, y, z, iterations):\n",
    "    a = 0.607252935;   # = 1/K\n",
    "    \n",
    "    i = 0;                  # Keeps count on number of iterations\n",
    "    \n",
    "    current_x = x;          # Value of X on ith iteration \n",
    "    current_y = y;      # Value of Y on ith iteration\n",
    "    current_z = z;          # Value of Z on ith iteration\n",
    "    \n",
    "    di = 0;\n",
    "    \n",
    "    if (iterations > 0):\n",
    "        for i in range(iterations):\n",
    "            if (current_y < 0):\n",
    "                di = +1;\n",
    "            else:\n",
    "                di = -1;\n",
    "            next_z = current_z - di * math.degrees(math.atan(2**(-1*i)));\n",
    "            next_x = current_x - di * current_y * 2**(-1*i);\n",
    "            next_y = current_y + di * current_x * 2**(-1*i);\n",
    "            \n",
    "            #print current_z;\n",
    "            \n",
    "            current_x = next_x;\n",
    "            current_y = next_y;\n",
    "            current_z = next_z;\n",
    "    return { 'atan':current_z};\n"
   ]
  },
  {
   "cell_type": "markdown",
   "metadata": {},
   "source": [
    "## Calculations for magnitude of vector"
   ]
  },
  {
   "cell_type": "code",
   "execution_count": null,
   "metadata": {
    "collapsed": false
   },
   "outputs": [],
   "source": [
    "mag_list = [];\n",
    "iterations_list = [];\n",
    "\n",
    "i = 10;\n",
    "for i in range(1, max_iter):\n",
    "    iterations_list.append(i);\n",
    "    atan_list.append(vector_mode(1, 12, 0, i)['atan']);"
   ]
  },
  {
   "cell_type": "markdown",
   "metadata": {},
   "source": [
    "## Plot for tan$^{-1}$(y) with number of iterations"
   ]
  },
  {
   "cell_type": "code",
   "execution_count": null,
   "metadata": {
    "collapsed": false,
    "scrolled": false
   },
   "outputs": [],
   "source": [
    "# Plot for cos\n",
    "# ----\n",
    "fig = plt.figure();\n",
    "ax = fig.add_subplot(111);\n",
    "\n",
    "line, = ax.plot(iterations_list, atan_list,  lw=2);\n",
    "\n",
    "ax.set_title('Variation of tan$^{-1}$(Y) with number of iterations');\n",
    "ax.set_xlabel('Iterations (i) $-->$');\n",
    "ax.set_ylabel('tan$^{-1}$(Y) $\\Rightarrow$');\n",
    "plt.show();\n",
    "plt.close();\n",
    "\n",
    "print \"Expected value: \" + str(math.degrees(math.atan(12))) + \", Got: \" + str(atan_list[max_iter - 2]);"
   ]
  },
  {
   "cell_type": "markdown",
   "metadata": {},
   "source": [
    "## Calculations for tan$^{-1}$(y)"
   ]
  },
  {
   "cell_type": "code",
   "execution_count": null,
   "metadata": {
    "collapsed": false
   },
   "outputs": [],
   "source": [
    "atan_list = [];\n",
    "iterations_list = [];\n",
    "\n",
    "i = 10;\n",
    "for i in range(1, max_iter):\n",
    "    iterations_list.append(i);\n",
    "    atan_list.append(vector_mode(1, 12, 0, i)['atan']);"
   ]
  },
  {
   "cell_type": "markdown",
   "metadata": {},
   "source": [
    "## Plot for tan$^{-1}$(y) with number of iterations"
   ]
  },
  {
   "cell_type": "code",
   "execution_count": null,
   "metadata": {
    "collapsed": false,
    "scrolled": false
   },
   "outputs": [],
   "source": [
    "# Plot for cos\n",
    "# ----\n",
    "fig = plt.figure();\n",
    "ax = fig.add_subplot(111);\n",
    "\n",
    "line, = ax.plot(iterations_list, atan_list,  lw=2);\n",
    "\n",
    "ax.set_title('Variation of tan$^{-1}$(Y) with number of iterations');\n",
    "ax.set_xlabel('Iterations (i) $-->$');\n",
    "ax.set_ylabel('tan$^{-1}$(Y) $\\Rightarrow$');\n",
    "plt.show();\n",
    "plt.close();\n",
    "\n",
    "print \"Expected value: \" + str(math.degrees(math.atan(12))) + \", Got: \" + str(atan_list[max_iter - 2]);"
   ]
  },
  {
   "cell_type": "markdown",
   "metadata": {},
   "source": [
    "## Magnitude of a vector"
   ]
  },
  {
   "cell_type": "code",
   "execution_count": null,
   "metadata": {
    "collapsed": true
   },
   "outputs": [],
   "source": []
  },
  {
   "cell_type": "markdown",
   "metadata": {
    "collapsed": true
   },
   "source": [
    "# References\n",
    "1. [*A survey of CORDIC algorithms for FPGA based computers*](http://portal.acm.org/citation.cfm?doid=275107.275139) by Andraka, Ray (1998).\n",
    "2. *Cordic_Architeutre - QIP STC-Image Processing using VLSI architecture* by Das, Bishnu Prasad (2016)"
   ]
  },
  {
   "cell_type": "code",
   "execution_count": null,
   "metadata": {
    "collapsed": true
   },
   "outputs": [],
   "source": []
  }
 ],
 "metadata": {
  "kernelspec": {
   "display_name": "Python 2",
   "language": "python",
   "name": "python2"
  },
  "language_info": {
   "codemirror_mode": {
    "name": "ipython",
    "version": 2
   },
   "file_extension": ".py",
   "mimetype": "text/x-python",
   "name": "python",
   "nbconvert_exporter": "python",
   "pygments_lexer": "ipython2",
   "version": "2.7.13"
  }
 },
 "nbformat": 4,
 "nbformat_minor": 2
}
